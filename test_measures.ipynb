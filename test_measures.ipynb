{
 "cells": [
  {
   "cell_type": "code",
   "execution_count": 55,
   "metadata": {},
   "outputs": [
    {
     "data": {
      "text/plain": [
       "True"
      ]
     },
     "execution_count": 55,
     "metadata": {},
     "output_type": "execute_result"
    }
   ],
   "source": [
    "import pandas as pd\n",
    "import os\n",
    "from dotenv import load_dotenv\n",
    "\n",
    "load_dotenv()"
   ]
  },
  {
   "cell_type": "code",
   "execution_count": 56,
   "metadata": {},
   "outputs": [],
   "source": [
    "datos_csv = r\"\" + os.environ['DATOS_CSV']\n",
    "historico_csv = r\"\" + os.environ['HISTORICO_CSV']\n",
    "\n",
    "file_metricas = 'metricas.csv'\n",
    "file_historico = 'historico.csv'\n",
    "\n",
    "data = pd.read_csv(datos_csv, sep=\";\")\n",
    "historico = pd.read_csv(historico_csv, sep=\";\")"
   ]
  },
  {
   "cell_type": "code",
   "execution_count": 57,
   "metadata": {},
   "outputs": [
    {
     "name": "stdout",
     "output_type": "stream",
     "text": [
      "<class 'pandas.core.frame.DataFrame'>\n",
      "RangeIndex: 1012 entries, 0 to 1011\n",
      "Data columns (total 17 columns):\n",
      " #   Column                    Non-Null Count  Dtype  \n",
      "---  ------                    --------------  -----  \n",
      " 0   aplicacion                1012 non-null   object \n",
      " 1   proyecto                  1012 non-null   object \n",
      " 2   lenguaje                  1012 non-null   object \n",
      " 3   date                      1012 non-null   object \n",
      " 4   complexity                893 non-null    float64\n",
      " 5   coverage                  921 non-null    float64\n",
      " 6   ncloc                     926 non-null    float64\n",
      " 7   duplicated_lines_density  967 non-null    float64\n",
      " 8   code_smells               1012 non-null   int64  \n",
      " 9   bugs                      1012 non-null   int64  \n",
      " 10  vulnerabilities           1012 non-null   int64  \n",
      " 11  sqale_index               1012 non-null   int64  \n",
      " 12  sqale_rating              1012 non-null   float64\n",
      " 13  reliability_rating        1012 non-null   float64\n",
      " 14  security_rating           1012 non-null   float64\n",
      " 15  alert_status              1012 non-null   object \n",
      " 16  app_sonar                 1012 non-null   object \n",
      "dtypes: float64(7), int64(4), object(6)\n",
      "memory usage: 110.8+ KB\n",
      "None\n"
     ]
    }
   ],
   "source": [
    "print(data.info())"
   ]
  },
  {
   "cell_type": "code",
   "execution_count": 58,
   "metadata": {},
   "outputs": [
    {
     "name": "stdout",
     "output_type": "stream",
     "text": [
      "aplicacion                    0\n",
      "proyecto                      0\n",
      "lenguaje                      0\n",
      "date                          0\n",
      "complexity                  119\n",
      "coverage                     91\n",
      "ncloc                        86\n",
      "duplicated_lines_density     45\n",
      "code_smells                   0\n",
      "bugs                          0\n",
      "vulnerabilities               0\n",
      "sqale_index                   0\n",
      "sqale_rating                  0\n",
      "reliability_rating            0\n",
      "security_rating               0\n",
      "alert_status                  0\n",
      "app_sonar                     0\n",
      "dtype: int64\n",
      "(1012, 17)\n"
     ]
    }
   ],
   "source": [
    "print(data.isnull().sum())\n",
    "print(data.shape)"
   ]
  },
  {
   "cell_type": "code",
   "execution_count": 59,
   "metadata": {},
   "outputs": [],
   "source": [
    "data.fillna(0, inplace=True)\n",
    "historico.fillna(0, inplace=True)"
   ]
  },
  {
   "cell_type": "code",
   "execution_count": 60,
   "metadata": {},
   "outputs": [],
   "source": [
    "# data.dropna(axis=0, how='any', inplace=True)\n",
    "# historico.dropna(axis=0, how='any', inplace=True)"
   ]
  },
  {
   "cell_type": "code",
   "execution_count": 61,
   "metadata": {},
   "outputs": [],
   "source": [
    "# create a new column, date_parsed, with the parsed dates\n",
    "data['date_parsed'] = pd.to_datetime(data['date'], format=\"%Y-%m-%d %H:%M:%S\")\n",
    "# get the day of the month from the date_parsed column\n",
    "data['day_of_month'] = data['date_parsed'].dt.day\n",
    "data['month_of_year']= data['date_parsed'].dt.month\n",
    "data['year']= data['date_parsed'].dt.year"
   ]
  },
  {
   "cell_type": "code",
   "execution_count": 62,
   "metadata": {},
   "outputs": [
    {
     "name": "stdout",
     "output_type": "stream",
     "text": [
      "(1012, 21)\n",
      "aplicacion                  0\n",
      "proyecto                    0\n",
      "lenguaje                    0\n",
      "date                        0\n",
      "complexity                  0\n",
      "coverage                    0\n",
      "ncloc                       0\n",
      "duplicated_lines_density    0\n",
      "code_smells                 0\n",
      "bugs                        0\n",
      "vulnerabilities             0\n",
      "sqale_index                 0\n",
      "sqale_rating                0\n",
      "reliability_rating          0\n",
      "security_rating             0\n",
      "alert_status                0\n",
      "app_sonar                   0\n",
      "date_parsed                 0\n",
      "day_of_month                0\n",
      "month_of_year               0\n",
      "year                        0\n",
      "dtype: int64\n"
     ]
    }
   ],
   "source": [
    "print(data.shape)\n",
    "print(data.isnull().sum())"
   ]
  },
  {
   "cell_type": "code",
   "execution_count": 63,
   "metadata": {},
   "outputs": [
    {
     "name": "stdout",
     "output_type": "stream",
     "text": [
      "(11336, 17)\n",
      "aplicacion                  0\n",
      "proyecto                    0\n",
      "lenguaje                    0\n",
      "date                        0\n",
      "complexity                  0\n",
      "coverage                    0\n",
      "ncloc                       0\n",
      "duplicated_lines_density    0\n",
      "code_smells                 0\n",
      "bugs                        0\n",
      "vulnerabilities             0\n",
      "sqale_index                 0\n",
      "sqale_rating                0\n",
      "reliability_rating          0\n",
      "security_rating             0\n",
      "alert_status                0\n",
      "app_sonar                   0\n",
      "dtype: int64\n"
     ]
    }
   ],
   "source": [
    "print(historico.shape)\n",
    "print(historico.isnull().sum())"
   ]
  },
  {
   "cell_type": "code",
   "execution_count": 64,
   "metadata": {},
   "outputs": [],
   "source": [
    "data['reliability_label'] = data['reliability_rating']\n",
    "data['sqale_label'] = data['sqale_rating']\n",
    "data['security_label'] = data['security_rating']\n",
    "data['reliability_label'].replace([ 1, 2, 3, 4, 5], ['A', 'B', 'C', 'D', 'E'], inplace=True)\n",
    "data['sqale_label'].replace([ 1, 2, 3, 4, 5], ['A', 'B', 'C', 'D', 'E'], inplace=True)\n",
    "data['security_label'].replace([ 1, 2, 3, 4, 5], ['A', 'B', 'C', 'D', 'E'], inplace=True)"
   ]
  },
  {
   "cell_type": "code",
   "execution_count": 65,
   "metadata": {},
   "outputs": [],
   "source": [
    "historico['reliability_label'] = historico['reliability_rating']\n",
    "historico['sqale_label'] = historico['sqale_rating']\n",
    "historico['security_label'] = historico['security_rating']\n",
    "historico['reliability_label'].replace([ 1, 2, 3, 4, 5], ['A', 'B', 'C', 'D', 'E'], inplace=True)\n",
    "historico['sqale_label'].replace([ 1, 2, 3, 4, 5], ['A', 'B', 'C', 'D', 'E'], inplace=True)\n",
    "historico['security_label'].replace([ 1, 2, 3, 4, 5], ['A', 'B', 'C', 'D', 'E'], inplace=True)"
   ]
  },
  {
   "cell_type": "code",
   "execution_count": 66,
   "metadata": {},
   "outputs": [],
   "source": [
    "tallas = [\"XS\", \"S\", \"M\", \"L\", \"XL\"]\n",
    "valores = [-1, 1000, 10000, 100000, 500000, 10000000]\n",
    "data['size']= pd.cut(x=data['ncloc'], bins=valores, labels=tallas)"
   ]
  },
  {
   "cell_type": "code",
   "execution_count": 67,
   "metadata": {},
   "outputs": [],
   "source": [
    "tallas1 = [\"A\",\"B\",\"C\",\"D\",\"E\"]\n",
    "valores1= [-1,3,5,10,20,100]\n",
    "data['DLoC'] = pd.cut(x=data['duplicated_lines_density'], bins=valores1, labels=tallas1)"
   ]
  },
  {
   "cell_type": "code",
   "execution_count": 68,
   "metadata": {},
   "outputs": [],
   "source": [
    "tallas2 = [\"A\",\"B\",\"C\",\"D\",\"E\"]\n",
    "valores1= [-1,30,50,60,70,100]\n",
    "data['coverage_label'] = pd.cut(x=100-data['coverage'], bins=valores1, labels=tallas1)"
   ]
  },
  {
   "cell_type": "code",
   "execution_count": 69,
   "metadata": {},
   "outputs": [
    {
     "name": "stdout",
     "output_type": "stream",
     "text": [
      "(1012, 27)\n",
      "aplicacion                  0\n",
      "proyecto                    0\n",
      "lenguaje                    0\n",
      "date                        0\n",
      "complexity                  0\n",
      "coverage                    0\n",
      "ncloc                       0\n",
      "duplicated_lines_density    0\n",
      "code_smells                 0\n",
      "bugs                        0\n",
      "vulnerabilities             0\n",
      "sqale_index                 0\n",
      "sqale_rating                0\n",
      "reliability_rating          0\n",
      "security_rating             0\n",
      "alert_status                0\n",
      "app_sonar                   0\n",
      "date_parsed                 0\n",
      "day_of_month                0\n",
      "month_of_year               0\n",
      "year                        0\n",
      "reliability_label           0\n",
      "sqale_label                 0\n",
      "security_label              0\n",
      "size                        0\n",
      "DLoC                        0\n",
      "coverage_label              0\n",
      "dtype: int64\n"
     ]
    }
   ],
   "source": [
    "print(data.shape)\n",
    "print(data.isnull().sum())"
   ]
  },
  {
   "cell_type": "code",
   "execution_count": 70,
   "metadata": {},
   "outputs": [
    {
     "name": "stdout",
     "output_type": "stream",
     "text": [
      "<class 'pandas.core.frame.DataFrame'>\n",
      "RangeIndex: 1012 entries, 0 to 1011\n",
      "Data columns (total 27 columns):\n",
      " #   Column                    Non-Null Count  Dtype         \n",
      "---  ------                    --------------  -----         \n",
      " 0   aplicacion                1012 non-null   object        \n",
      " 1   proyecto                  1012 non-null   object        \n",
      " 2   lenguaje                  1012 non-null   object        \n",
      " 3   date                      1012 non-null   object        \n",
      " 4   complexity                1012 non-null   float64       \n",
      " 5   coverage                  1012 non-null   float64       \n",
      " 6   ncloc                     1012 non-null   float64       \n",
      " 7   duplicated_lines_density  1012 non-null   float64       \n",
      " 8   code_smells               1012 non-null   int64         \n",
      " 9   bugs                      1012 non-null   int64         \n",
      " 10  vulnerabilities           1012 non-null   int64         \n",
      " 11  sqale_index               1012 non-null   int64         \n",
      " 12  sqale_rating              1012 non-null   float64       \n",
      " 13  reliability_rating        1012 non-null   float64       \n",
      " 14  security_rating           1012 non-null   float64       \n",
      " 15  alert_status              1012 non-null   object        \n",
      " 16  app_sonar                 1012 non-null   object        \n",
      " 17  date_parsed               1012 non-null   datetime64[ns]\n",
      " 18  day_of_month              1012 non-null   int32         \n",
      " 19  month_of_year             1012 non-null   int32         \n",
      " 20  year                      1012 non-null   int32         \n",
      " 21  reliability_label         1012 non-null   object        \n",
      " 22  sqale_label               1012 non-null   object        \n",
      " 23  security_label            1012 non-null   object        \n",
      " 24  size                      1012 non-null   category      \n",
      " 25  DLoC                      1012 non-null   category      \n",
      " 26  coverage_label            1012 non-null   category      \n",
      "dtypes: category(3), datetime64[ns](1), float64(7), int32(3), int64(4), object(9)\n",
      "memory usage: 145.7+ KB\n",
      "None\n"
     ]
    }
   ],
   "source": [
    "print(data.info())"
   ]
  },
  {
   "cell_type": "code",
   "execution_count": 71,
   "metadata": {},
   "outputs": [
    {
     "name": "stdout",
     "output_type": "stream",
     "text": [
      "<bound method DataFrame.info of           aplicacion                  proyecto lenguaje                 date  \\\n",
      "0       abacusbrmosp                    abacus     java  2023-09-05 15:19:53   \n",
      "1           agoraosp                  npdistri     java  2023-10-26 09:16:49   \n",
      "2            alceosp             s2caplicativo     java  2023-10-23 15:36:01   \n",
      "3     alegacionesosp               alegaciones     java  2023-08-07 10:34:57   \n",
      "4          altairosp                 altairweb     java  2023-09-12 08:06:37   \n",
      "...              ...                       ...      ...                  ...   \n",
      "1007    xpressionosp       edicionxmlresimovil     java  2023-10-26 10:01:02   \n",
      "1008    xpressionosp          edicionindexfijo     java  2023-10-25 09:47:46   \n",
      "1009    xpressionosp     edicionchequeojazztel     java  2023-09-26 11:09:33   \n",
      "1010    xpressionosp           edicionxmlmovil     java  2023-10-19 14:15:22   \n",
      "1011    xpressionosp  edicionxmljazztelempresa     java  2023-10-17 09:33:59   \n",
      "\n",
      "      complexity  coverage     ncloc  duplicated_lines_density  code_smells  \\\n",
      "0        25878.0       0.0  216319.0                      39.7        27017   \n",
      "1        69019.0       0.0  494424.0                      47.7        63173   \n",
      "2        20692.0       0.0  141661.0                      13.7         7012   \n",
      "3         8437.0       0.0   58740.0                      36.3         2823   \n",
      "4         3113.0       0.0   16519.0                      27.2          881   \n",
      "...          ...       ...       ...                       ...          ...   \n",
      "1007      8250.0      73.8   47581.0                       1.9           64   \n",
      "1008      1431.0       0.0    7858.0                       3.4          470   \n",
      "1009       346.0      71.5    1687.0                       0.4            7   \n",
      "1010      7290.0      42.7   55939.0                       5.3          453   \n",
      "1011      3982.0      73.1   18893.0                       0.9           10   \n",
      "\n",
      "      bugs  ...         date_parsed  day_of_month  month_of_year  year  \\\n",
      "0      792  ... 2023-09-05 15:19:53             5              9  2023   \n",
      "1     6022  ... 2023-10-26 09:16:49            26             10  2023   \n",
      "2      222  ... 2023-10-23 15:36:01            23             10  2023   \n",
      "3      250  ... 2023-08-07 10:34:57             7              8  2023   \n",
      "4        0  ... 2023-09-12 08:06:37            12              9  2023   \n",
      "...    ...  ...                 ...           ...            ...   ...   \n",
      "1007     1  ... 2023-10-26 10:01:02            26             10  2023   \n",
      "1008     1  ... 2023-10-25 09:47:46            25             10  2023   \n",
      "1009     0  ... 2023-09-26 11:09:33            26              9  2023   \n",
      "1010     0  ... 2023-10-19 14:15:22            19             10  2023   \n",
      "1011     0  ... 2023-10-17 09:33:59            17             10  2023   \n",
      "\n",
      "      reliability_label sqale_label security_label size  DLoC  coverage_label  \n",
      "0                     E           A              A    L     E               E  \n",
      "1                     E           A              E    L     E               E  \n",
      "2                     E           A              A    L     D               E  \n",
      "3                     E           A              A    M     E               E  \n",
      "4                     A           A              A    M     E               E  \n",
      "...                 ...         ...            ...  ...   ...             ...  \n",
      "1007                  C           A              A    M     A               A  \n",
      "1008                  C           A              A    S     B               E  \n",
      "1009                  A           A              A    S     A               A  \n",
      "1010                  A           A              A    M     C               C  \n",
      "1011                  A           A              A    M     A               A  \n",
      "\n",
      "[1012 rows x 27 columns]>\n"
     ]
    }
   ],
   "source": [
    "print(data.info)"
   ]
  },
  {
   "cell_type": "code",
   "execution_count": 72,
   "metadata": {},
   "outputs": [],
   "source": [
    "\n",
    "data.to_csv(file_metricas, index=False, sep=\";\")\n",
    "historico.to_csv(file_historico, index=False, sep=\";\")"
   ]
  }
 ],
 "metadata": {
  "kernelspec": {
   "display_name": "Python 3",
   "language": "python",
   "name": "python3"
  },
  "language_info": {
   "codemirror_mode": {
    "name": "ipython",
    "version": 3
   },
   "file_extension": ".py",
   "mimetype": "text/x-python",
   "name": "python",
   "nbconvert_exporter": "python",
   "pygments_lexer": "ipython3",
   "version": "3.11.2 (tags/v3.11.2:878ead1, Feb  7 2023, 16:24:28) [MSC v.1934 32 bit (Intel)]"
  },
  "orig_nbformat": 4,
  "vscode": {
   "interpreter": {
    "hash": "173ae74ecd759d33659dc89cc0ace91dba90ddaa088b7a848a7f37d845ddcc5d"
   }
  }
 },
 "nbformat": 4,
 "nbformat_minor": 2
}
